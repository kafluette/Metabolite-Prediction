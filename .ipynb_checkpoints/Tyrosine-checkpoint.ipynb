{
 "cells": [
  {
   "cell_type": "code",
   "execution_count": 17,
   "metadata": {
    "collapsed": false
   },
   "outputs": [],
   "source": [
    "require 'torch';\n",
    "Plot = require 'itorch.Plot';\n",
    "round = function (n) return math.ceil(n-0.5) end;"
   ]
  },
  {
   "cell_type": "code",
   "execution_count": 18,
   "metadata": {
    "collapsed": false
   },
   "outputs": [],
   "source": [
    "train = torch.DiskFile('Tyrosine/all_train2.torch','r'):readObject();"
   ]
  },
  {
   "cell_type": "code",
   "execution_count": 20,
   "metadata": {
    "collapsed": false
   },
   "outputs": [
    {
     "ename": "expected arguments: [*DoubleTensor*] [Generator] long\nstack traceback:\n\t[C]: at 0x0e234550\n\t[C]: in function 'randperm'\n\t[string \"k = 3;...\"]:6: in main chunk\n\t[C]: in function 'xpcall'\n\t...ellanfluette/torch/install/share/lua/5.1/itorch/main.lua:177: in function <...ellanfluette/torch/install/share/lua/5.1/itorch/main.lua:143>\n\t...ellanfluette/torch/install/share/lua/5.1/lzmq/poller.lua:75: in function 'poll'\n\t...anfluette/torch/install/share/lua/5.1/lzmq/impl/loop.lua:307: in function 'poll'\n\t...anfluette/torch/install/share/lua/5.1/lzmq/impl/loop.lua:325: in function 'sleep_ex'\n\t...anfluette/torch/install/share/lua/5.1/lzmq/impl/loop.lua:370: in function 'start'\n\t...ellanfluette/torch/install/share/lua/5.1/itorch/main.lua:344: in main chunk\n\t[C]: in function 'require'\n\t(command line):1: in main chunk\n\t[C]: at 0x010e0be2b0",
     "evalue": "",
     "output_type": "error",
     "traceback": [
      "expected arguments: [*DoubleTensor*] [Generator] long\nstack traceback:\n\t[C]: at 0x0e234550\n\t[C]: in function 'randperm'\n\t[string \"k = 3;...\"]:6: in main chunk\n\t[C]: in function 'xpcall'\n\t...ellanfluette/torch/install/share/lua/5.1/itorch/main.lua:177: in function <...ellanfluette/torch/install/share/lua/5.1/itorch/main.lua:143>\n\t...ellanfluette/torch/install/share/lua/5.1/lzmq/poller.lua:75: in function 'poll'\n\t...anfluette/torch/install/share/lua/5.1/lzmq/impl/loop.lua:307: in function 'poll'\n\t...anfluette/torch/install/share/lua/5.1/lzmq/impl/loop.lua:325: in function 'sleep_ex'\n\t...anfluette/torch/install/share/lua/5.1/lzmq/impl/loop.lua:370: in function 'start'\n\t...ellanfluette/torch/install/share/lua/5.1/itorch/main.lua:344: in main chunk\n\t[C]: in function 'require'\n\t(command line):1: in main chunk\n\t[C]: at 0x010e0be2b0"
     ]
    }
   ],
   "source": [
    "k = 3;\n",
    "pos_acc = 0.0;\n",
    "neg_acc = 0.0;\n",
    "train_acc = 0.0;\n",
    "acc = 0.0;"
   ]
  },
  {
   "cell_type": "code",
   "execution_count": null,
   "metadata": {
    "collapsed": true
   },
   "outputs": [],
   "source": []
  }
 ],
 "metadata": {
  "kernelspec": {
   "display_name": "iTorch",
   "language": "lua",
   "name": "itorch"
  },
  "language_info": {
   "name": "lua",
   "version": "20100"
  }
 },
 "nbformat": 4,
 "nbformat_minor": 0
}
